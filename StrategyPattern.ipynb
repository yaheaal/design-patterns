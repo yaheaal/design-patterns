{
  "nbformat": 4,
  "nbformat_minor": 0,
  "metadata": {
    "colab": {
      "provenance": []
    },
    "kernelspec": {
      "name": "python3",
      "display_name": "Python 3"
    },
    "language_info": {
      "name": "python"
    }
  },
  "cells": [
    {
      "cell_type": "markdown",
      "source": [
        "Let's start with a simple example without using the strategy pattern:\n",
        "\n"
      ],
      "metadata": {
        "id": "AtWRbzRFWFpH"
      }
    },
    {
      "cell_type": "code",
      "source": [
        "class Payment:\n",
        "    def __init__(self, card_number: str):\n",
        "        self.card_number = card_number\n",
        "    \n",
        "    def calculate_total_amount(self, amount: float) -> float:\n",
        "        return amount * 1.05  # add 5% for credit card processing fee\n",
        "    \n",
        "    def process_payment(self, amount: float):\n",
        "        total_amount = self.calculate_total_amount(amount)\n",
        "        print(f\"Processing payment of ${total_amount} using card number {self.card_number}\")\n",
        "\n",
        "# Use the Payment class to process a payment\n",
        "payment = Payment(\"1234567812345678\")\n",
        "payment.process_payment(100.0)"
      ],
      "metadata": {
        "colab": {
          "base_uri": "https://localhost:8080/"
        },
        "id": "O5AtvIAIWuEn",
        "outputId": "99201590-2582-4fec-9fdb-54090c79ab8e"
      },
      "execution_count": 1,
      "outputs": [
        {
          "output_type": "stream",
          "name": "stdout",
          "text": [
            "Processing payment of $105.0 using card number 1234567812345678\n"
          ]
        }
      ]
    },
    {
      "cell_type": "markdown",
      "source": [
        "This code implements a simple Payment class that calculates the total amount (including a 5% processing fee) and processes the payment using a given card number.\n",
        "\n",
        "However, if we want to support multiple payment methods (e.g. Visa, Mastercard, PayPal, etc.), this implementation will quickly become cumbersome and difficult to maintain. This is where the strategy pattern can help.\n",
        "\n",
        "The strategy pattern allows us to encapsulate the payment processing logic into separate, interchangeable strategy objects, each implementing a specific payment method. Here's how we can implement this in Python:"
      ],
      "metadata": {
        "id": "3jdONpfKWLiP"
      }
    },
    {
      "cell_type": "code",
      "source": [
        "from abc import ABC, abstractmethod\n",
        "\n",
        "# Define an interface for payment strategies\n",
        "class PaymentStrategy(ABC):\n",
        "    @abstractmethod\n",
        "    def process_payment(self, amount: float):\n",
        "        pass\n",
        "\n",
        "# Define concrete payment strategy classes\n",
        "class VisaPayment(PaymentStrategy):\n",
        "    def process_payment(self, amount: float):\n",
        "        print(f\"Processing visa payment of ${amount}\")\n",
        "\n",
        "class MastercardPayment(PaymentStrategy):\n",
        "    def process_payment(self, amount: float):\n",
        "        print(f\"Processing mastercard payment of ${amount}\")\n",
        "\n",
        "# Define a context class that accepts a payment strategy\n",
        "class PaymentContext:\n",
        "    def __init__(self, payment_strategy: PaymentStrategy):\n",
        "        self.payment_strategy = payment_strategy\n",
        "    \n",
        "    def process_payment(self, amount: float):\n",
        "        self.payment_strategy.process_payment(amount)\n",
        "\n",
        "# Use the PaymentContext class to process payments using different strategies\n",
        "payment_context = PaymentContext(VisaPayment())\n",
        "payment_context.process_payment(100.0)\n",
        "\n",
        "payment_context = PaymentContext(MastercardPayment())\n",
        "payment_context.process_payment(100.0)"
      ],
      "metadata": {
        "colab": {
          "base_uri": "https://localhost:8080/"
        },
        "id": "Cv4wKLv1WIbw",
        "outputId": "05554a46-7292-4735-9277-3cf43c4b7396"
      },
      "execution_count": 2,
      "outputs": [
        {
          "output_type": "stream",
          "name": "stdout",
          "text": [
            "Processing visa payment of $100.0\n",
            "Processing mastercard payment of $100.0\n"
          ]
        }
      ]
    },
    {
      "cell_type": "markdown",
      "source": [
        "In this implementation, the PaymentStrategy interface defines the process_payment method that concrete payment strategies must implement. The VisaPayment and MastercardPayment classes are concrete payment strategies that implement the process_payment method in a specific way. The PaymentContext class is a context class that accepts a payment strategy and delegates the payment processing to the strategy.\n",
        "\n",
        "By using the strategy pattern, we have achieved a more flexible and maintainable design. The payment processing logic can be easily swapped out at runtime by changing the payment strategy used by the context class. This allows us to add or change payment methods without affecting the rest of the code."
      ],
      "metadata": {
        "id": "3MDFpP-rW9o0"
      }
    },
    {
      "cell_type": "code",
      "source": [
        "from abc import ABC, abstractmethod\n",
        "\n",
        "# Define an interface for payment strategies\n",
        "class PaymentStrategy(ABC):\n",
        "    @abstractmethod\n",
        "    def process_payment(self, amount: float):\n",
        "        pass\n",
        "\n",
        "# Define concrete payment strategy classes\n",
        "class VisaPayment(PaymentStrategy):\n",
        "    def process_payment(self, amount: float):\n",
        "        print(f\"Processing visa payment of ${amount}\")\n",
        "\n",
        "class MastercardPayment(PaymentStrategy):\n",
        "    def process_payment(self, amount: float):\n",
        "        print(f\"Processing mastercard payment of ${amount}\")\n",
        "\n",
        "# Define a context class that accepts a payment strategy\n",
        "class PaymentContext:\n",
        "    def __init__(self, payment_strategy: PaymentStrategy):\n",
        "        self.payment_strategy = payment_strategy\n",
        "    \n",
        "    def calculate_total_amount(self, amount: float) -> float:\n",
        "        return amount * 1.05  # add 5% for credit card processing fee\n",
        "    \n",
        "    def process_payment(self, amount: float):\n",
        "        total_amount = self.calculate_total_amount(amount)\n",
        "        self.payment_strategy.process_payment(total_amount)\n",
        "\n",
        "# Use the PaymentContext class to process payments using different strategies\n",
        "payment_context = PaymentContext(VisaPayment())\n",
        "payment_context.process_payment(100.0)\n",
        "\n",
        "payment_context = PaymentContext(MastercardPayment())\n",
        "payment_context.process_payment(100.0)"
      ],
      "metadata": {
        "colab": {
          "base_uri": "https://localhost:8080/"
        },
        "id": "-BVw6PMoWn5k",
        "outputId": "d0ec14af-cb11-42c7-9d81-37ca652172a3"
      },
      "execution_count": 3,
      "outputs": [
        {
          "output_type": "stream",
          "name": "stdout",
          "text": [
            "Processing visa payment of $105.0\n",
            "Processing mastercard payment of $105.0\n"
          ]
        }
      ]
    },
    {
      "cell_type": "markdown",
      "source": [
        "In this code, the PaymentContext class now has a calculate_total_amount method that calculates the total amount (including a 5% processing fee) and the process_payment method now processes the payment using the calculated total amount.\n",
        "\n",
        "This way, we have added the credit card processing fee to both Visa and Mastercard payment methods, and this fee can be easily changed in the future by modifying the calculate_total_amount method in the PaymentContext class."
      ],
      "metadata": {
        "id": "PcyactUuXhfD"
      }
    },
    {
      "cell_type": "markdown",
      "source": [
        "The strategy pattern has several advantages:\n",
        "\n",
        "Flexibility: The strategy pattern allows you to dynamically change the behavior of an object at runtime. This means that you can switch between different algorithms or behaviors without having to modify the code of the object itself.\n",
        "\n",
        "Code Reusability: By encapsulating algorithms or behaviors in separate strategy classes, you can reuse these classes in multiple places, making your code more modular and easier to maintain.\n",
        "\n",
        "Ease of Maintenance: Since the algorithms or behaviors are separated from the main class, it's easier to update or maintain the code. You can add new strategies or modify existing ones without affecting the rest of the code.\n",
        "\n",
        "Regarding speed and memory impact, the strategy pattern has a minimal impact. The overhead of creating objects for each strategy is small, and it's usually outweighed by the benefits of the pattern in terms of flexibility, code reuse, and ease of maintenance.\n",
        "\n",
        "It's important to note that the performance impact of the strategy pattern depends on the specific implementation and the size of the application. In most cases, the overhead is negligible, but it's always a good idea to measure the performance of your code in order to identify and optimize any bottlenecks."
      ],
      "metadata": {
        "id": "li16c8MJYNhc"
      }
    },
    {
      "cell_type": "markdown",
      "source": [
        "One more example\n",
        "\n",
        "Let's say you have a code for sorting a list of numbers, and you want to change the sorting algorithm used.\n",
        "\n",
        "Without using the strategy pattern, you would write something like this:"
      ],
      "metadata": {
        "id": "5Kk-f3HdvrOR"
      }
    },
    {
      "cell_type": "code",
      "source": [
        "def sort_numbers(numbers, algorithm):\n",
        "    if algorithm == \"bubble_sort\":\n",
        "        # Implementation of bubble sort\n",
        "        pass\n",
        "    elif algorithm == \"quick_sort\":\n",
        "        # Implementation of quick sort\n",
        "        pass\n",
        "    else:\n",
        "        raise ValueError(\"Unknown sorting algorithm\")\n",
        "\n",
        "sort_numbers([1, 2, 3, 4], \"bubble_sort\")\n",
        "sort_numbers([1, 2, 3, 4], \"quick_sort\")"
      ],
      "metadata": {
        "id": "pU7Oxrq6XcO1"
      },
      "execution_count": 4,
      "outputs": []
    },
    {
      "cell_type": "markdown",
      "source": [
        "With the strategy pattern, you would write something like this:"
      ],
      "metadata": {
        "id": "qnY0OPq2v20A"
      }
    },
    {
      "cell_type": "code",
      "source": [
        "class SortStrategy:\n",
        "    def sort(self, numbers):\n",
        "        raise NotImplementedError\n",
        "\n",
        "class BubbleSortStrategy(SortStrategy):\n",
        "    def sort(self, numbers):\n",
        "        # Implementation of bubble sort\n",
        "        pass\n",
        "\n",
        "class QuickSortStrategy(SortStrategy):\n",
        "    def sort(self, numbers):\n",
        "        # Implementation of quick sort\n",
        "        pass\n",
        "\n",
        "class Sorter:\n",
        "    def __init__(self, strategy):\n",
        "        self.strategy = strategy\n",
        "\n",
        "    def sort(self, numbers):\n",
        "        return self.strategy.sort(numbers)\n",
        "\n",
        "sorter = Sorter(BubbleSortStrategy())\n",
        "sorter.sort([1, 2, 3, 4])\n",
        "\n",
        "sorter = Sorter(QuickSortStrategy())\n",
        "sorter.sort([1, 2, 3, 4])"
      ],
      "metadata": {
        "id": "y29s3NfGv0VB"
      },
      "execution_count": 5,
      "outputs": []
    },
    {
      "cell_type": "code",
      "source": [],
      "metadata": {
        "id": "sVJz85YLv5kF"
      },
      "execution_count": 5,
      "outputs": []
    }
  ]
}