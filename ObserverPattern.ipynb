{
  "nbformat": 4,
  "nbformat_minor": 0,
  "metadata": {
    "colab": {
      "provenance": []
    },
    "kernelspec": {
      "name": "python3",
      "display_name": "Python 3"
    },
    "language_info": {
      "name": "python"
    }
  },
  "cells": [
    {
      "cell_type": "markdown",
      "source": [
        "The observer pattern is a design pattern used in software engineering to implement a one-to-many relationship between objects. The main idea is to have a subject that maintains a list of its dependents, known as observers, and notifies them of any changes to its state. The observers can then take appropriate action based on the updated state of the subject.\n",
        "\n",
        "Advantages of the observer pattern:\n",
        "\n",
        "Loose coupling: The observer pattern decouples the subject from the observers, meaning that changes to one class do not affect the other classes. This makes the code more maintainable and scalable.  \n",
        "Reusability: Observers can be reused in different parts of the system, reducing the amount of code duplication.  \n",
        "Flexibility: New observers can be added or removed from the system at runtime, making the observer pattern highly flexible.  \n",
        "Here's an example of a code before and after implementing the observer pattern in python:"
      ],
      "metadata": {
        "id": "2DrbChdR1BG8"
      }
    },
    {
      "cell_type": "code",
      "source": [
        "# Before implementing the observer pattern\n",
        "class WeatherStation:\n",
        "    def __init__(self):\n",
        "        self._temperature = 0\n",
        "\n",
        "    def get_temperature(self):\n",
        "        return self._temperature\n",
        "\n",
        "    def set_temperature(self, temperature):\n",
        "        self._temperature = temperature\n",
        "        print(f\"Weather station: temperature updated to {temperature}\")\n",
        "\n",
        "class MobileApp:\n",
        "    def __init__(self, weather_station):\n",
        "        self._weather_station = weather_station\n",
        "\n",
        "    def display_temperature(self):\n",
        "        temperature = self._weather_station.get_temperature()\n",
        "        print(f\"Mobile app: temperature is {temperature}\")\n",
        "\n",
        "class Website:\n",
        "    def __init__(self, weather_station):\n",
        "        self._weather_station = weather_station\n",
        "\n",
        "    def display_temperature(self):\n",
        "        temperature = self._weather_station.get_temperature()\n",
        "        print(f\"Website: temperature is {temperature}\")\n",
        "\n",
        "weather_station = WeatherStation()\n",
        "mobile_app = MobileApp(weather_station)\n",
        "website = Website(weather_station)"
      ],
      "metadata": {
        "id": "jZis1BOccYZk"
      },
      "execution_count": null,
      "outputs": []
    },
    {
      "cell_type": "code",
      "source": [
        "# After implementing the observer pattern\n",
        "from abc import ABC, abstractmethod\n",
        "\n",
        "class Observer(ABC):\n",
        "    @abstractmethod\n",
        "    def update(self, temperature):\n",
        "        pass\n",
        "\n",
        "class MobileApp(Observer):\n",
        "    def update(self, temperature):\n",
        "        print(f\"Mobile app: temperature is {temperature}\")\n",
        "\n",
        "class Website(Observer):\n",
        "    def update(self, temperature):\n",
        "        print(f\"Website: temperature is {temperature}\")\n",
        "\n",
        "class WeatherStation:\n",
        "    def __init__(self):\n",
        "        self._temperature = 0\n",
        "        self._observers = []\n",
        "\n",
        "    def register_observer(self, observer):\n",
        "        self._observers.append(observer)\n",
        "\n",
        "    def get_temperature(self):\n",
        "        return self._temperature\n",
        "\n",
        "    def set_temperature(self, temperature):\n",
        "        self._temperature = temperature\n",
        "        print(f\"Weather station: temperature updated to {temperature}\")\n",
        "        self._notify_observers()\n",
        "\n",
        "    def _notify_observers(self):\n",
        "        for observer in self._observers:\n",
        "            observer.update(self._temperature)\n",
        "\n",
        "weather_station = WeatherStation()\n",
        "mobile_app = MobileApp()\n",
        "website = Website()\n",
        "weather_station.register_observer(mobile_app)\n",
        "weather_station.register_observer(website)\n",
        "weather_station.set_temperature(25)"
      ],
      "metadata": {
        "colab": {
          "base_uri": "https://localhost:8080/"
        },
        "id": "2eJHIDyj5FqZ",
        "outputId": "75c42e30-bcbc-41c5-fac9-26a434b22b26"
      },
      "execution_count": null,
      "outputs": [
        {
          "output_type": "stream",
          "name": "stdout",
          "text": [
            "Weather station: temperature updated to 25\n",
            "Mobile app: temperature is 25\n",
            "Website: temperature is 25\n"
          ]
        }
      ]
    },
    {
      "cell_type": "markdown",
      "source": [
        "Regarding the effect on space and memory, the observer pattern generally uses more memory as it requires the creation of a list to store"
      ],
      "metadata": {
        "id": "NWWQrzpY73SI"
      }
    },
    {
      "cell_type": "code",
      "source": [],
      "metadata": {
        "id": "pEbIRXfvc5Ps"
      },
      "execution_count": null,
      "outputs": []
    }
  ]
}